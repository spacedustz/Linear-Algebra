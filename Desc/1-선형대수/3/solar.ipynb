{
 "cells": [
  {
   "metadata": {},
   "cell_type": "markdown",
   "source": [
    "## 선형대수 연습문제\n",
    "\n",
    "어떤 사람이 태양광 전자판 디자인을 취미로 한다고 가정합니다.\n",
    "\n",
    "4월 1일, 첫번쨰 태양광 디자인 Mark1이 하루에 1kj씩 발전합니다.\n",
    "\n",
    "5월 1일, 두번쨰 태양광 디자인 Mark2가 하루에 4kj씩 발전합니다.\n",
    "\n",
    "1. 첫번쨰 과제 : Mark2 모델이 Mark1 모델의 발전량을 따라잡는 날짜는 언제인가?\n",
    "2. 두번쨰 과제 : 그날 발전된 에너지의 총량은 각각 얼마인가?\n",
    "3. 세번째 과제 : 만약 Mark2가 하루 1kj를 생상한다면 과제 1,2의 답은 어떻게 바뀌는가?\n",
    "\n",
    "Mark 1 = $1t$\n",
    "\n",
    "Mark 2 = $4(t - 30)$\n",
    "\n",
    "---\n",
    "\n",
    "### 첫번쨰 과제\n",
    "\n",
    "Mark2 모델이 Mark1 모델을 따라잡는 날짜는 40일 후이다.\n",
    "\n",
    "e = 1t\n",
    "e = 4(t-30)\n",
    "\n",
    "4(t-30) = 1t\n",
    "\n",
    "4t - 120 = t\n",
    "\n",
    "4t -t = 120\n",
    "\n",
    "3t = 120 = 40\n",
    "\n",
    "t = $40$\n",
    "\n",
    "<br>\n",
    "\n",
    "### 두번쨰 과제\n",
    "\n",
    "두 개의 모델 각각 발전된 에너지의 총량은 각각 40kj씩, 80kj이다.\n",
    "\n",
    "e = 1t = 1(40) = 40kj\n",
    "\n",
    "e = 4(t-30) = 4t - 120\n",
    "\n",
    "4(40) - 120 = 160 - 120 = 40kj\n",
    "\n",
    "40 + 40 = $80kj$\n",
    "\n",
    "<br>\n",
    "\n",
    "### 세번째 과제\n",
    "\n",
    "Mark1과 Mark2의 생산량이 같을때의 해는 없다.\n",
    "\n",
    "왜냐하면 두 직선은 다른 출발점에서 시작하고 서로 교차하는 지점이 없기 때문"
   ],
   "id": "9990e07479fcbaee"
  },
  {
   "metadata": {},
   "cell_type": "code",
   "outputs": [],
   "execution_count": null,
   "source": "",
   "id": "b373a4273052e034"
  }
 ],
 "metadata": {
  "kernelspec": {
   "display_name": "Python 3",
   "language": "python",
   "name": "python3"
  },
  "language_info": {
   "codemirror_mode": {
    "name": "ipython",
    "version": 2
   },
   "file_extension": ".py",
   "mimetype": "text/x-python",
   "name": "python",
   "nbconvert_exporter": "python",
   "pygments_lexer": "ipython2",
   "version": "2.7.6"
  }
 },
 "nbformat": 4,
 "nbformat_minor": 5
}
