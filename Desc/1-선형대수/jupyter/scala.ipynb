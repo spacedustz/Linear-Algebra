{
 "cells": [
  {
   "metadata": {},
   "cell_type": "markdown",
   "source": [
    "## Tensor\n",
    "\n",
    "선형대수학의 기초적인 구축 블록인 텐서에 대해 학습합니다.\n",
    "\n",
    "텐서란 차원에 상관없이 머신러닝을 위해 일반화된 벡터와 행렬입니다.\n",
    "\n",
    "<br>\n",
    "\n",
    "**0차원 텐서(스칼라, 단일값)**\n",
    "\n",
    "$x$\n",
    "\n",
    "<br>\n",
    "\n",
    "**1차원 텐서(벡터, 배열)**\n",
    " \n",
    "%[x1, x2, x3]\n",
    "\n",
    "<br>\n",
    "\n",
    "**2차원 텐서(매트릭스, 행렬)**\n",
    "\n",
    "$[x1,1, x1,2]ㅔ$\n",
    "\n",
    "<br>\n",
    "\n",
    "$[x2,1, x2,2]$\n",
    "\n",
    "<br>\n",
    "\n",
    "등등 텐서라는 갠며은 이러한 류의 객체를 전부 어떤 차원으로도 일반화할 수 있게 만들어 줍니다."
   ],
   "id": "3ad74fa10296cffc"
  },
  {
   "metadata": {},
   "cell_type": "markdown",
   "source": [
    "## Scala\n",
    "\n",
    "단일 수량을 가지고 보통 소문자 Italic체의 x로 표기되며, \n",
    "\n",
    "어떤 프로그래밍 언어, 라이브러리에 관계없이 보통 정수나 32비트 float으로도 나타납니다.\n",
    "\n",
    "아래 스칼라 텐서에 값을 할당해 타입을 확인해보면 int 인것을 볼 수 있습니다."
   ],
   "id": "3e87a53e742a24f5"
  },
  {
   "metadata": {
    "ExecuteTime": {
     "end_time": "2024-06-08T07:58:37.905149Z",
     "start_time": "2024-06-08T07:58:37.899048Z"
    }
   },
   "cell_type": "code",
   "source": [
    "x = 25\n",
    "type(x)"
   ],
   "id": "4d0350f8abb66401",
   "outputs": [
    {
     "data": {
      "text/plain": [
       "int"
      ]
     },
     "execution_count": 1,
     "metadata": {},
     "output_type": "execute_result"
    }
   ],
   "execution_count": 1
  },
  {
   "metadata": {},
   "cell_type": "markdown",
   "source": [
    "두번쨰 스칼라 텐서는 Float 값을 생성해 줍니다.\n",
    "\n",
    "여기에 3을 더하고 타입을 확인해보면 Float 인것을 볼 수 있습니다."
   ],
   "id": "fbc34080d1c4773"
  },
  {
   "metadata": {
    "ExecuteTime": {
     "end_time": "2024-06-08T07:58:37.915434Z",
     "start_time": "2024-06-08T07:58:37.912127Z"
    }
   },
   "cell_type": "code",
   "source": [
    "x_float = 25.0\n",
    "y = 3\n",
    "float_sum = x_float + y\n",
    "type(float_sum)"
   ],
   "id": "56bce3042ecfa330",
   "outputs": [
    {
     "data": {
      "text/plain": [
       "float"
      ]
     },
     "execution_count": 2,
     "metadata": {},
     "output_type": "execute_result"
    }
   ],
   "execution_count": 2
  },
  {
   "metadata": {},
   "cell_type": "markdown",
   "source": [
    "### Scala in Pytorch\n",
    "\n",
    "자동미분을 실행해주는 Pytorch나 Tensorflow를 사용했을떄는 타입을 Float으로 초기화 합니다.\n",
    "\n",
    "Pytorch 텐서는 Numpy 배열처럼 작동합니다.\n",
    "\n",
    "Pytouch 텐서가 Numpy 배열과 연관해 유용한 이유는 GPU 내 연산을 사용하기가 쉽기 때문입니다.\n",
    "\n",
    "GPU를 이용해 많은 행렬의 병렬 처리를 할 수 있고, 그래픽 렌더링이나 비디오게임/영상처리 등의 작업을 수행할 수 있습니다.\n",
    "\n",
    "그리고, GPU는 딥러닝 알고리즘을 훈련하는 데에도 광범위하게 활용되므로, 이런 방식으로 Numpy와 자주 사용됩니다.\n",
    "\n",
    "[Types - Pytorch Tensor](https://pytorch.org/docs/stable/tensors.html)"
   ],
   "id": "aeb84d4f66a6d2e6"
  },
  {
   "metadata": {
    "ExecuteTime": {
     "end_time": "2024-06-08T07:58:39.235630Z",
     "start_time": "2024-06-08T07:58:37.925408Z"
    }
   },
   "cell_type": "code",
   "source": [
    "import torch\n",
    "import numpy\n",
    "\n",
    "x_pt = torch.tensor(25) # 타입 구체화는 여기서 하지 않음 ex) torch.tensor(25, dtype=torch.float16)\n",
    "x_pt # 타입 = tensor(25)"
   ],
   "id": "e3d040146afe572b",
   "outputs": [
    {
     "data": {
      "text/plain": [
       "tensor(25)"
      ]
     },
     "execution_count": 3,
     "metadata": {},
     "output_type": "execute_result"
    }
   ],
   "execution_count": 3
  },
  {
   "metadata": {},
   "cell_type": "markdown",
   "source": "텐서의 차원을 shape로 확인해보면 차원이 없다고 나옵니다.",
   "id": "b4956aa9e1fb6135"
  },
  {
   "metadata": {
    "ExecuteTime": {
     "end_time": "2024-06-08T07:58:39.240083Z",
     "start_time": "2024-06-08T07:58:39.236626Z"
    }
   },
   "cell_type": "code",
   "source": "x_pt.shape",
   "id": "16f959f6cefda84b",
   "outputs": [
    {
     "data": {
      "text/plain": [
       "torch.Size([])"
      ]
     },
     "execution_count": 4,
     "metadata": {},
     "output_type": "execute_result"
    }
   ],
   "execution_count": 4
  },
  {
   "metadata": {},
   "cell_type": "markdown",
   "source": [
    "### Scala in Tensorflow (ver 2.0 or later)\n",
    "\n",
    "인공신경망이나 딥러닝을 쉽게 사용할 수 있게 해주는 라이브러리입니다.\n",
    "\n",
    "가장 흔한 타입은 아래와 같이 4개 정도이며, 가장 사용량이 많은 텐서는 tf.Variable 입니다.\n",
    "\n",
    "- tf.Variable\n",
    "- tf.constant\n",
    "- tf.placeholder\n",
    "- tf.SparseTensor\n",
    "\n",
    "Tensorflow 및 Pytorch 내 텐서는 비슷한 연산을 수행할 수 있고, 넘파이 배열로 혹은 넘파이 배열로부터 상호 변환이 가능합니다.\n",
    "\n",
    "또, 후에 알고리즘 훈련 시 필요할 미분도 수행할 수 있습니다.\n",
    "\n",
    "[Types - Tensorflow Tensor](https://www.tensorflow.org/api_docs/python/tf/dtypes/DType)\n",
    "\n",
    "**만약 Python 3.12를 사용중이라면 distutils가 없기 떄문에 `pip install setuptools` 명령을 수행하면 distutils 모듈 에러가 사라짐**"
   ],
   "id": "6883689be485a275"
  },
  {
   "metadata": {
    "ExecuteTime": {
     "end_time": "2024-06-08T07:58:41.381025Z",
     "start_time": "2024-06-08T07:58:39.241075Z"
    }
   },
   "cell_type": "code",
   "source": [
    "import tensorflow as tf\n",
    "\n",
    "# Tensorflow Variable 생성\n",
    "x_tf = tf.Variable(25, dtype=tf.int16)\n",
    "x_tf"
   ],
   "id": "7362898aae2d9846",
   "outputs": [
    {
     "data": {
      "text/plain": [
       "<tf.Variable 'Variable:0' shape=() dtype=int16, numpy=25>"
      ]
     },
     "execution_count": 5,
     "metadata": {},
     "output_type": "execute_result"
    }
   ],
   "execution_count": 5
  },
  {
   "metadata": {
    "ExecuteTime": {
     "end_time": "2024-06-08T07:58:41.385875Z",
     "start_time": "2024-06-08T07:58:41.382018Z"
    }
   },
   "cell_type": "code",
   "source": [
    "# 변수의 차원 확인\n",
    "x_tf.shape"
   ],
   "id": "b6e6ee587e42d25",
   "outputs": [
    {
     "data": {
      "text/plain": [
       "TensorShape([])"
      ]
     },
     "execution_count": 6,
     "metadata": {},
     "output_type": "execute_result"
    }
   ],
   "execution_count": 6
  },
  {
   "metadata": {
    "ExecuteTime": {
     "end_time": "2024-06-08T07:58:41.390719Z",
     "start_time": "2024-06-08T07:58:41.386871Z"
    }
   },
   "cell_type": "code",
   "source": "y_tf = tf.Variable(3, dtype=tf.int16)",
   "id": "c95a59f1d199a6f0",
   "outputs": [],
   "execution_count": 7
  },
  {
   "metadata": {
    "ExecuteTime": {
     "end_time": "2024-06-08T07:58:41.397470Z",
     "start_time": "2024-06-08T07:58:41.391713Z"
    }
   },
   "cell_type": "code",
   "source": [
    "# Add Tensor 1\n",
    "x_tf + y_tf"
   ],
   "id": "c39372c9b163c8d",
   "outputs": [
    {
     "data": {
      "text/plain": [
       "<tf.Tensor: shape=(), dtype=int16, numpy=28>"
      ]
     },
     "execution_count": 8,
     "metadata": {},
     "output_type": "execute_result"
    }
   ],
   "execution_count": 8
  },
  {
   "metadata": {
    "ExecuteTime": {
     "end_time": "2024-06-08T07:58:41.402125Z",
     "start_time": "2024-06-08T07:58:41.397470Z"
    }
   },
   "cell_type": "code",
   "source": [
    "# Add Tensor 2\n",
    "tf_sum = tf.add(x_tf, y_tf)\n",
    "tf_sum"
   ],
   "id": "d3a26be0ba96f13f",
   "outputs": [
    {
     "data": {
      "text/plain": [
       "<tf.Tensor: shape=(), dtype=int16, numpy=28>"
      ]
     },
     "execution_count": 9,
     "metadata": {},
     "output_type": "execute_result"
    }
   ],
   "execution_count": 9
  },
  {
   "metadata": {
    "ExecuteTime": {
     "end_time": "2024-06-08T07:58:41.405607Z",
     "start_time": "2024-06-08T07:58:41.402125Z"
    }
   },
   "cell_type": "code",
   "source": [
    "# Numpy로 변환 - 타입 : numpy 16비트 배열\n",
    "tf_sum.numpy()\n",
    "type(tf_sum.numpy())"
   ],
   "id": "9ce6fe22477698bb",
   "outputs": [
    {
     "data": {
      "text/plain": [
       "numpy.int16"
      ]
     },
     "execution_count": 10,
     "metadata": {},
     "output_type": "execute_result"
    }
   ],
   "execution_count": 10
  },
  {
   "metadata": {
    "ExecuteTime": {
     "end_time": "2024-06-08T07:58:41.414581Z",
     "start_time": "2024-06-08T07:58:41.406601Z"
    }
   },
   "cell_type": "code",
   "source": [
    "tf_float = tf.Variable(25, dtype=tf.float16)\n",
    "tf_float"
   ],
   "id": "1e335f0bf47a11c0",
   "outputs": [
    {
     "data": {
      "text/plain": [
       "<tf.Variable 'Variable:0' shape=() dtype=float16, numpy=25.0>"
      ]
     },
     "execution_count": 11,
     "metadata": {},
     "output_type": "execute_result"
    }
   ],
   "execution_count": 11
  }
 ],
 "metadata": {
  "kernelspec": {
   "display_name": "Python 3",
   "language": "python",
   "name": "python3"
  },
  "language_info": {
   "codemirror_mode": {
    "name": "ipython",
    "version": 2
   },
   "file_extension": ".py",
   "mimetype": "text/x-python",
   "name": "python",
   "nbconvert_exporter": "python",
   "pygments_lexer": "ipython2",
   "version": "2.7.6"
  }
 },
 "nbformat": 4,
 "nbformat_minor": 5
}
