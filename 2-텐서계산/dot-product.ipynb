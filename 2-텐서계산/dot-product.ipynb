{
 "cells": [
  {
   "metadata": {},
   "cell_type": "markdown",
   "source": [
    "## 내적 (Dot Product)\n",
    "\n",
    "내적 (dot product)이라는 개념은 선형대수학에서 매우 중요하며, 머신러닝에서도 다양한 용도로 사용됩니다. 내적은 두 벡터의 \"유사성\"이나 \"관계\"를 측정하는 데 사용됩니다. 내적의 정의와 그 의미를 이해하는 데 도움이 되는 예를 제공하겠습니다.\n",
    "\n",
    "<br>\n",
    "\n",
    "### 1. 내적의 정의\n",
    "두 벡터 $\\(\\mathbf{a}\\)$와 $\\(\\mathbf{b}\\)$의 내적은 다음과 같이 정의됩니다:\n",
    "\n",
    "$$\n",
    "\\mathbf{a} \\cdot \\mathbf{b} = a_1 b_1 + a_2 b_2 + \\ldots + a_n b_n\n",
    "$$\n",
    "\n",
    "여기서 $\\(\\mathbf{a}\\)$와 $\\(\\mathbf{b}\\)$는 $\\(n\\)$-차원의 벡터이고, 각각의 구성 요소 $\\(a_i\\)$와 $\\(b_i\\)$는 벡터의 각 성분입니다.\n",
    "\n",
    "<br>\n",
    "\n",
    "### 2. 내적의 예\n",
    "벡터 $\\(\\mathbf{a} = [a_1, a_2, a_3]\\)$와 $\\(\\mathbf{b} = [b_1, b_2, b_3]\\)$가 주어졌다고 가정해 보겠습니다. 이 경우, 내적은 다음과 같이 계산됩니다:\n",
    "\n",
    "$$\n",
    "\\mathbf{a} \\cdot \\mathbf{b} = a_1 b_1 + a_2 b_2 + a_3 b_3\n",
    "$$\n",
    "\n",
    "예를 들어, $\\(\\mathbf{a} = [1, 2, 3]\\)$이고 $\\(\\mathbf{b} = [4, 5, 6]\\)$일 때,\n",
    "\n",
    "$$\n",
    "\\mathbf{a} \\cdot \\mathbf{b} = 1 \\cdot 4 + 2 \\cdot 5 + 3 \\cdot 6 = 4 + 10 + 18 = 32\n",
    "$$\n",
    "\n",
    "<br>\n",
    "\n",
    "### 3. 내적의 기하학적 의미\n",
    "내적의 기하학적 의미는 두 벡터 사이의 각도와 관계가 있습니다. 두 벡터 $\\(\\mathbf{a}\\)$와 $\\(\\mathbf{b}\\)$의 내적은 다음과 같이 표현될 수 있습니다:\n",
    "\n",
    "$$\n",
    "\\mathbf{a} \\cdot \\mathbf{b} = \\|\\mathbf{a}\\| \\|\\mathbf{b}\\| \\cos \\theta\n",
    "$$\n",
    "\n",
    "여기서 $\\(\\|\\mathbf{a}\\|\\)$와 $\\(\\|\\mathbf{b}\\|\\)$는 각각 벡터 $\\(\\mathbf{a}\\)$와 $\\(\\mathbf{b}\\)$의 크기 (길이)이며, $\\(\\theta\\)$는 두 벡터 사이의 각도입니다.\n",
    "\n",
    "- 만약 $\\mathbf{a} \\cdot \\mathbf{b}$가 양수이면, 두 벡터가 둔각 ($\\theta < 90^\\circ$)을 이루고 있다는 의미입니다.\n",
    "- 만약 $\\mathbf{a} \\cdot \\mathbf{b}$가 음수이면, 두 벡터가 예각 ($\\theta > 90^\\circ$)을 이루고 있다는 의미입니다.\n",
    "- 만약 $\\mathbf{a} \\cdot \\mathbf{b}$가 0이면, 두 벡터가 서로 직교 ($\\theta = 90^\\circ$)한다는 의미입니다.\n",
    "\n",
    "<br>\n",
    "\n",
    "### 4. 머신러닝에서의 내적\n",
    "머신러닝에서 내적은 다양한 용도로 사용됩니다. 몇 가지 예는 다음과 같습니다:\n",
    "\n",
    "- **유사도 측정**: 두 벡터가 얼마나 유사한지를 측정하는 데 사용됩니다. 예를 들어, 텍스트 데이터에서 단어 빈도 벡터 간의 유사도를 측정할 때 사용됩니다.\n",
    "- **선형 회귀**: 모델의 예측 값은 입력 벡터와 가중치 벡터의 내적으로 계산됩니다.\n",
    "- **신경망**: 뉴런의 활성화 함수 입력은 가중치 벡터와 입력 벡터의 내적을 사용하여 계산됩니다."
   ],
   "id": "c4efec1f55785e50"
  },
  {
   "metadata": {},
   "cell_type": "markdown",
   "source": [
    "### 예제 코드\n",
    "\n",
    "아래 코드는 `numpy`, `tensorflow`, `pytorch`를 사용하여 두 벡터의 내적을 계산하는 예제입니다."
   ],
   "id": "4447f99135169b3"
  },
  {
   "metadata": {
    "ExecuteTime": {
     "end_time": "2024-06-14T09:50:53.192874Z",
     "start_time": "2024-06-14T09:50:53.107962Z"
    }
   },
   "cell_type": "code",
   "source": [
    "# Numpy\n",
    "import numpy as np\n",
    "\n",
    "a = np.array([1, 2, 3])\n",
    "b = np.array([4, 5, 6])\n",
    "\n",
    "dot_product = np.dot(a, b)\n",
    "\n",
    "dot_product"
   ],
   "id": "d1485aa476f9e6c5",
   "outputs": [
    {
     "data": {
      "text/plain": [
       "32"
      ]
     },
     "execution_count": 1,
     "metadata": {},
     "output_type": "execute_result"
    }
   ],
   "execution_count": 1
  },
  {
   "metadata": {
    "ExecuteTime": {
     "end_time": "2024-06-14T09:50:55.135634Z",
     "start_time": "2024-06-14T09:50:53.193880Z"
    }
   },
   "cell_type": "code",
   "source": [
    "# Tensorflow\n",
    "import tensorflow as tf\n",
    "\n",
    "a = tf.constant([1, 2, 3])\n",
    "b = tf.constant([4, 5, 6])\n",
    "\n",
    "tf.tensordot(a, b, axes=1)"
   ],
   "id": "325bc9a3399e87db",
   "outputs": [
    {
     "data": {
      "text/plain": [
       "<tf.Tensor: shape=(), dtype=int32, numpy=32>"
      ]
     },
     "execution_count": 2,
     "metadata": {},
     "output_type": "execute_result"
    }
   ],
   "execution_count": 2
  },
  {
   "metadata": {
    "ExecuteTime": {
     "end_time": "2024-06-14T09:50:56.477198Z",
     "start_time": "2024-06-14T09:50:55.136640Z"
    }
   },
   "cell_type": "code",
   "source": [
    "# PyTorch\n",
    "import torch\n",
    "\n",
    "a = torch.tensor([1, 2, 3])\n",
    "b = torch.tensor([4, 5, 6])\n",
    "\n",
    "torch.dot(a, b)"
   ],
   "id": "ac9da1cc4fd3c463",
   "outputs": [
    {
     "data": {
      "text/plain": [
       "tensor(32)"
      ]
     },
     "execution_count": 3,
     "metadata": {},
     "output_type": "execute_result"
    }
   ],
   "execution_count": 3
  }
 ],
 "metadata": {
  "kernelspec": {
   "display_name": "Python 3",
   "language": "python",
   "name": "python3"
  },
  "language_info": {
   "codemirror_mode": {
    "name": "ipython",
    "version": 2
   },
   "file_extension": ".py",
   "mimetype": "text/x-python",
   "name": "python",
   "nbconvert_exporter": "python",
   "pygments_lexer": "ipython2",
   "version": "2.7.6"
  }
 },
 "nbformat": 4,
 "nbformat_minor": 5
}
