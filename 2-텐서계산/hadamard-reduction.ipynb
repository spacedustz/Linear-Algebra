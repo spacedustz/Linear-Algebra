{
 "cells": [
  {
   "metadata": {},
   "cell_type": "markdown",
   "source": [
    "## 아다마르 곱 (Hadamard Product)\n",
    "\n",
    "### 개념\n",
    "아다마르 곱은 두 텐서의 원소별 곱을 의미합니다. 이는 두 텐서의 대응하는 위치의 원소를 곱한 결과를 포함하는 텐서를 반환합니다. 아다마르 곱은 동일한 형태(shape)를 가진 두 텐서에 대해 수행됩니다.\n",
    "\n",
    "### 수식\n",
    "두 텐서 $\\(\\mathbf{A}\\)$와 $\\(\\mathbf{B}\\)$가 주어졌을 때, 아다마르 곱 $\\(\\mathbf{C}\\)$는 다음과 같이 정의됩니다\n",
    "\n",
    "$$\n",
    "\\mathbf{C}_{ij} = \\mathbf{A}_{ij} \\cdot \\mathbf{B}_{ij}\n",
    "$$\n",
    "\n",
    "### 예시\n",
    "$$\n",
    "\\mathbf{A} = \\begin{bmatrix} 1 & 2 \\\\ 3 & 4 \\end{bmatrix}\n",
    "$$\n",
    "\n",
    "$$\n",
    "\\mathbf{B} = \\begin{bmatrix} 5 & 6 \\\\ 7 & 8 \\end{bmatrix}\n",
    "$$\n",
    "\n",
    "$$\n",
    "아마다르 곱 \\mathbf{C} = \\begin{bmatrix} 1 \\cdot 5 & 2 \\cdot 6 \\\\ 3 \\cdot 7 & 4 \\cdot 8 \\end{bmatrix} = \\begin{bmatrix} 5 & 12 \\\\ 21 & 32 \\end{bmatrix}\n",
    "$$\n",
    "\n",
    "\n",
    "<br>\n",
    "\n",
    "### 용도\n",
    "- **요소별 연산**: 신경망에서 활성화 함수와 같이 요소별로 연산을 수행할 때 사용됩니다.\n",
    "- **특징 조합**: 두 가지 특징을 결합하여 새로운 특징을 만들 때 사용됩니다. 예를 들어, 두 이미지의 픽셀별 곱 등을 계산할 때.\n",
    "- **가중치 적용**: 특정 가중치를 각 원소에 개별적으로 적용할 때 사용됩니다.\n"
   ],
   "id": "73a7cb6384864dad"
  },
  {
   "metadata": {
    "ExecuteTime": {
     "end_time": "2024-06-14T09:34:22.613517Z",
     "start_time": "2024-06-14T09:34:22.610614Z"
    }
   },
   "cell_type": "code",
   "source": [
    "import torch\n",
    "import numpy as np\n",
    "import tensorflow as tf"
   ],
   "id": "42d784049af7dde3",
   "outputs": [],
   "execution_count": 5
  },
  {
   "metadata": {
    "ExecuteTime": {
     "end_time": "2024-06-14T09:34:22.660908Z",
     "start_time": "2024-06-14T09:34:22.655785Z"
    }
   },
   "cell_type": "code",
   "source": [
    "# PyTorch\n",
    "a = torch.tensor([[1, 2], [3, 4]])\n",
    "b = torch.tensor([[5, 6], [7, 8]])\n",
    "\n",
    "a * b"
   ],
   "id": "466c77f7959e7a4e",
   "outputs": [
    {
     "data": {
      "text/plain": [
       "tensor([[ 5, 12],\n",
       "        [21, 32]])"
      ]
     },
     "execution_count": 6,
     "metadata": {},
     "output_type": "execute_result"
    }
   ],
   "execution_count": 6
  },
  {
   "metadata": {
    "ExecuteTime": {
     "end_time": "2024-06-14T09:34:22.675690Z",
     "start_time": "2024-06-14T09:34:22.671220Z"
    }
   },
   "cell_type": "code",
   "source": [
    "# Tensorflow\n",
    "a = tf.constant([[1, 2], [3, 4]])\n",
    "b = tf.constant([[5, 6], [7, 8]])\n",
    "\n",
    "tf.multiply(a, b)"
   ],
   "id": "ce597e9643043edd",
   "outputs": [
    {
     "data": {
      "text/plain": [
       "<tf.Tensor: shape=(2, 2), dtype=int32, numpy=\n",
       "array([[ 5, 12],\n",
       "       [21, 32]])>"
      ]
     },
     "execution_count": 7,
     "metadata": {},
     "output_type": "execute_result"
    }
   ],
   "execution_count": 7
  },
  {
   "metadata": {
    "ExecuteTime": {
     "end_time": "2024-06-14T09:34:22.681483Z",
     "start_time": "2024-06-14T09:34:22.676731Z"
    }
   },
   "cell_type": "code",
   "source": [
    "# Numpy\n",
    "a = np.array([[1, 2], [3, 4]])\n",
    "b = np.array([[5, 6], [7, 8]])\n",
    "\n",
    "np.multiply(a, b)"
   ],
   "id": "4af4c27a6652a100",
   "outputs": [
    {
     "data": {
      "text/plain": [
       "array([[ 5, 12],\n",
       "       [21, 32]])"
      ]
     },
     "execution_count": 8,
     "metadata": {},
     "output_type": "execute_result"
    }
   ],
   "execution_count": 8
  },
  {
   "metadata": {},
   "cell_type": "markdown",
   "source": [
    "## 텐서 리덕션 (Tensor Reduction)\n",
    "\n",
    "텐서 리덕션은 다차원 텐서를 하나 또는 더 낮은 차원의 텐서로 변환하는 연산입니다. \n",
    "\n",
    "이 과정에서 텐서의 원소들에 대해 특정 연산을 수행하여 차원을 축소합니다. 일반적으로 사용되는 리덕션 연산에는 합(sum), 평균(mean), 최대(max) 등이 있습니다.\n",
    "\n",
    "<br>\n",
    "\n",
    "### 주요 리덕션 연산\n",
    "\n",
    "- 합(sum): 텐서의 모든 원소를 더하여 스칼라 값을 반환하거나, 특정 축을 따라 원소를 더하여 차원을 줄입니다.\n",
    "- 평균(mean): 텐서의 모든 원소의 평균을 계산하여 스칼라 값을 반환하거나, 특정 축을 따라 원소의 평균을 계산하여 차원을 줄입니다.\n",
    "- 최대(max): 텐서의 모든 원소 중 최대값을 반환하거나, 특정 축을 따라 최대값을 찾아 차원을 줄입니다.\n",
    "\n",
    "<br>\n",
    "\n",
    "### 용도\n",
    "\n",
    "- 특징 요약: 대규모 데이터에서 중요한 특징을 요약할 때 사용됩니다. 예를 들어, 이미지 데이터에서 각 채널의 평균값을 구하는 등.\n",
    "- 손실 계산: 머신러닝 모델의 손실 함수를 계산할 때 사용됩니다. 예를 들어, 예측 값과 실제 값의 차이의 합을 구하는 것 등."
   ],
   "id": "33bcafeaacaf7cfb"
  },
  {
   "metadata": {
    "ExecuteTime": {
     "end_time": "2024-06-14T09:34:22.690571Z",
     "start_time": "2024-06-14T09:34:22.681483Z"
    }
   },
   "cell_type": "code",
   "source": [
    "# PyTorch\n",
    "tensor = torch.tensor([[1, 2, 3], [4, 5, 6]])\n",
    "result = torch.sum(tensor)\n",
    "\n",
    "result"
   ],
   "id": "b550f2fca6250c5e",
   "outputs": [
    {
     "data": {
      "text/plain": [
       "tensor(21)"
      ]
     },
     "execution_count": 9,
     "metadata": {},
     "output_type": "execute_result"
    }
   ],
   "execution_count": 9
  },
  {
   "metadata": {
    "ExecuteTime": {
     "end_time": "2024-06-14T09:34:22.708845Z",
     "start_time": "2024-06-14T09:34:22.701686Z"
    }
   },
   "cell_type": "code",
   "source": [
    "# Tensorflow\n",
    "tensor = tf.constant([[1, 2, 3], [4, 5, 6]])\n",
    "result = tf.reduce_mean(tensor)\n",
    "\n",
    "result"
   ],
   "id": "ce93d757843e0c35",
   "outputs": [
    {
     "data": {
      "text/plain": [
       "<tf.Tensor: shape=(), dtype=int32, numpy=3>"
      ]
     },
     "execution_count": 10,
     "metadata": {},
     "output_type": "execute_result"
    }
   ],
   "execution_count": 10
  },
  {
   "metadata": {
    "ExecuteTime": {
     "end_time": "2024-06-14T09:34:22.740029Z",
     "start_time": "2024-06-14T09:34:22.735367Z"
    }
   },
   "cell_type": "code",
   "source": [
    "# Numpy\n",
    "tensor = np.array([[1, 2, 3], [4, 5, 6]])\n",
    "\n",
    "np.max(tensor)"
   ],
   "id": "cd6eca459966207e",
   "outputs": [
    {
     "data": {
      "text/plain": [
       "6"
      ]
     },
     "execution_count": 11,
     "metadata": {},
     "output_type": "execute_result"
    }
   ],
   "execution_count": 11
  }
 ],
 "metadata": {
  "kernelspec": {
   "display_name": "Python 3",
   "language": "python",
   "name": "python3"
  },
  "language_info": {
   "codemirror_mode": {
    "name": "ipython",
    "version": 2
   },
   "file_extension": ".py",
   "mimetype": "text/x-python",
   "name": "python",
   "nbconvert_exporter": "python",
   "pygments_lexer": "ipython2",
   "version": "2.7.6"
  }
 },
 "nbformat": 4,
 "nbformat_minor": 5
}
