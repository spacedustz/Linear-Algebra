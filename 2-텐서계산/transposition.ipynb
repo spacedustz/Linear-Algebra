{
 "cells": [
  {
   "metadata": {},
   "cell_type": "markdown",
   "source": [
    "## 텐서의 전치와 기초 연산\n",
    "\n",
    "### 텐서의 전치\n",
    "\n",
    "텐서의 전치는 행렬의 전치와 유사하게 텐서의 축을 교환하는 연산이며, 기초 연산에는 덧셈, 뺄셈, 곱셈, 나눗셈 등 매우 쉽게 연산을 할 수 있습니다."
   ],
   "id": "e6b51ebfe57e29f5"
  },
  {
   "metadata": {},
   "cell_type": "markdown",
   "source": "#### 예시: PyTorch",
   "id": "eb29e865c1fd7d39"
  },
  {
   "metadata": {
    "ExecuteTime": {
     "end_time": "2024-06-14T09:28:54.287713Z",
     "start_time": "2024-06-14T09:28:54.282779Z"
    }
   },
   "cell_type": "code",
   "source": [
    "import torch\n",
    "\n",
    "# Pytorch 텐서 생성\n",
    "tensor = torch.tensor([[1, 2, 3], [4, 5, 6]])\n",
    "\n",
    "# 텐서 전치\n",
    "transposed_tensor = tensor.t()\n",
    "transposed_tensor"
   ],
   "id": "501af1b843c946e0",
   "outputs": [
    {
     "data": {
      "text/plain": [
       "tensor([[1, 4],\n",
       "        [2, 5],\n",
       "        [3, 6]])"
      ]
     },
     "execution_count": 2,
     "metadata": {},
     "output_type": "execute_result"
    }
   ],
   "execution_count": 2
  },
  {
   "metadata": {
    "ExecuteTime": {
     "end_time": "2024-06-14T09:28:54.320191Z",
     "start_time": "2024-06-14T09:28:54.312194Z"
    }
   },
   "cell_type": "code",
   "source": [
    "# 더하기\n",
    "a = torch.tensor([1, 2, 3])\n",
    "b = torch.tensor([4, 5, 6])\n",
    "\n",
    "a+b"
   ],
   "id": "4326aab0f43b0e7b",
   "outputs": [
    {
     "data": {
      "text/plain": [
       "tensor([5, 7, 9])"
      ]
     },
     "execution_count": 3,
     "metadata": {},
     "output_type": "execute_result"
    }
   ],
   "execution_count": 3
  },
  {
   "metadata": {},
   "cell_type": "markdown",
   "source": "#### 예시: Tensorflow",
   "id": "be5797839c612505"
  },
  {
   "metadata": {
    "ExecuteTime": {
     "end_time": "2024-06-14T09:28:58.062781Z",
     "start_time": "2024-06-14T09:28:54.345042Z"
    }
   },
   "cell_type": "code",
   "source": [
    "import tensorflow as tf\n",
    "\n",
    "# Tensorflow 텐서 생성\n",
    "tensor = tf.constant([[1, 2, 3], [4, 5, 6]])\n",
    "\n",
    "# 텐서 전치\n",
    "transposed_tensor = tf.transpose(tensor)\n",
    "transposed_tensor"
   ],
   "id": "ab46cc8c65a7f6f0",
   "outputs": [
    {
     "data": {
      "text/plain": [
       "<tf.Tensor: shape=(3, 2), dtype=int32, numpy=\n",
       "array([[1, 4],\n",
       "       [2, 5],\n",
       "       [3, 6]])>"
      ]
     },
     "execution_count": 4,
     "metadata": {},
     "output_type": "execute_result"
    }
   ],
   "execution_count": 4
  },
  {
   "metadata": {
    "ExecuteTime": {
     "end_time": "2024-06-14T09:28:58.072245Z",
     "start_time": "2024-06-14T09:28:58.063789Z"
    }
   },
   "cell_type": "code",
   "source": [
    "# 곱하기\n",
    "a = tf.constant([1, 2, 3])\n",
    "b = tf.constant([4, 5, 6])\n",
    "\n",
    "a*b"
   ],
   "id": "d9f57a2378e44309",
   "outputs": [
    {
     "data": {
      "text/plain": [
       "<tf.Tensor: shape=(3,), dtype=int32, numpy=array([ 4, 10, 18])>"
      ]
     },
     "execution_count": 5,
     "metadata": {},
     "output_type": "execute_result"
    }
   ],
   "execution_count": 5
  },
  {
   "metadata": {},
   "cell_type": "markdown",
   "source": "#### 예시: Numpy",
   "id": "34c166b902682dc1"
  },
  {
   "metadata": {
    "ExecuteTime": {
     "end_time": "2024-06-14T09:28:58.077254Z",
     "start_time": "2024-06-14T09:28:58.072245Z"
    }
   },
   "cell_type": "code",
   "source": [
    "import numpy as np\n",
    "\n",
    "# Numpy 텐서 생성\n",
    "tensor = np.array([[1, 2, 3], [4, 5, 6]])\n",
    "\n",
    "# 텐서 전치\n",
    "transposed_tensor = np.transpose(tensor)\n",
    "transposed_tensor"
   ],
   "id": "7e1bcf023e17f847",
   "outputs": [
    {
     "data": {
      "text/plain": [
       "array([[1, 4],\n",
       "       [2, 5],\n",
       "       [3, 6]])"
      ]
     },
     "execution_count": 6,
     "metadata": {},
     "output_type": "execute_result"
    }
   ],
   "execution_count": 6
  },
  {
   "metadata": {
    "ExecuteTime": {
     "end_time": "2024-06-14T09:28:58.087324Z",
     "start_time": "2024-06-14T09:28:58.078261Z"
    }
   },
   "cell_type": "code",
   "source": [
    "# 나누기\n",
    "a = np.array([1, 2, 3])\n",
    "b = np.array([4, 5, 6])\n",
    "\n",
    "a/b"
   ],
   "id": "7f741ba5df3a0202",
   "outputs": [
    {
     "data": {
      "text/plain": [
       "array([0.25, 0.4 , 0.5 ])"
      ]
     },
     "execution_count": 7,
     "metadata": {},
     "output_type": "execute_result"
    }
   ],
   "execution_count": 7
  }
 ],
 "metadata": {
  "kernelspec": {
   "display_name": "Python 3",
   "language": "python",
   "name": "python3"
  },
  "language_info": {
   "codemirror_mode": {
    "name": "ipython",
    "version": 2
   },
   "file_extension": ".py",
   "mimetype": "text/x-python",
   "name": "python",
   "nbconvert_exporter": "python",
   "pygments_lexer": "ipython2",
   "version": "2.7.6"
  }
 },
 "nbformat": 4,
 "nbformat_minor": 5
}
