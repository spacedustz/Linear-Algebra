{
 "cells": [
  {
   "metadata": {},
   "cell_type": "markdown",
   "source": [
    "## Basis Vector (기저 벡터)\n",
    "\n",
    "기저 벡터란 어떤 주어진 벡터 공간에서 임의의 벡터를 표현할 수 있는 기준이 되는 벡터의 집합입니다.\n",
    "\n",
    "보통 기저 벡터에서는 벡터 공간의 축으로 단위 벡터를 이용합니다.\n",
    "\n",
    "<br>\n",
    "\n",
    "만약 어떤 2차원 벡터 공간에서 x,y축으로 표현하고,  전형적인 기저 벡터는 그 축의 단위를 0~5까지라고 가정하고 0.5단위로 나뉜 벡터로 이루어져 있다고 할떄,\n",
    "\n",
    "0에서 1까지의 x축 단위벡터인 `i`와, 0에서 1까지의 y축 단위벡터인 `j`가 있다고 가정합니다.\n",
    "\n",
    "이 두 벡터 i,j가 기저 벡터이고 이들은 2차원 공간 내에서는 어떤 벡터로도 스케일링 될 수 있습니다. (벡터의 숫자를 곱하는 것 즉, 벡터의 크기 증가)\n",
    "\n",
    "위 예시에서 v라는 벡터그 0벡터로부터 x=1.5 y=2 인 지점까지 뻗어있다고 하면, 이 벡터는 i와 j를 스케일링 한 후 더한 값으로 나타낼 수 있습니다. (v = 1.5i + 2j)"
   ],
   "id": "e6dfa63c37f1b78e"
  },
  {
   "metadata": {},
   "cell_type": "markdown",
   "source": [
    "## Orthogonal Vector (직교 벡터)\n",
    "\n",
    "직교 벡터는 2차원 공간에서 x,y 벡터가 있다고 가정하고 x와 y의 내적을 취했을 때 0이 되는것을 의미합니다.\n",
    "\n",
    "벡터에는 방향이 있으므로, 방향이 일치하는 만큼만 곱한다. 예를 들어 두 벡터의 방향이 같으면, 두 벡터의 크기를 그냥 곱합니다.\n",
    "\n",
    "두 벡터가 이루는 각이 90도일 땐, 일치하는 정도가 전혀 없기 때문에 내적의 값은 0이고, 그 의미는 두 벡터가 서로 90도를 이루고 직교한다는 의미입니다.\n",
    "\n",
    "<br>\n",
    "\n",
    "주의할 점은 n차원 공간에서는 최대 n개의 서로 직교하는 요소를 가진다는 것 입니다. (2차원 이면 최대 2개, 3차원이면 최대 3개)\n",
    "\n",
    "이떄 정규직교 벡터는 직교벡터의 특이한 케이스로 불립니다.\n",
    "\n",
    "이 둘은 모두 직교하고 단위벡터로 이루어져 있으며, 위에서 본 기저벡터가 바로 직교 벡터입니다.\n",
    "\n",
    "또한 위에서 본 기저 벡트는 1이라는 유클리드 거리값을 단위 벡터로 가지기 때문에 정규직교 벡터이기도 합니다.\n",
    "\n",
    "<br>\n",
    "\n",
    "아래 2개의 벡터 i와 j로 예시를 들어보겠습니다"
   ],
   "id": "2c6806c3ab6abc2a"
  },
  {
   "metadata": {
    "ExecuteTime": {
     "end_time": "2024-06-14T06:55:18.848391Z",
     "start_time": "2024-06-14T06:55:18.758273Z"
    }
   },
   "cell_type": "code",
   "source": [
    "import numpy as np\n",
    "\n",
    "i = np.array([1, 0])\n",
    "i"
   ],
   "id": "515fb878c8b39350",
   "outputs": [
    {
     "data": {
      "text/plain": [
       "array([1, 0])"
      ]
     },
     "execution_count": 1,
     "metadata": {},
     "output_type": "execute_result"
    }
   ],
   "execution_count": 1
  },
  {
   "metadata": {
    "ExecuteTime": {
     "end_time": "2024-06-14T06:55:18.852969Z",
     "start_time": "2024-06-14T06:55:18.849397Z"
    }
   },
   "cell_type": "code",
   "source": [
    "j = np.array([0, 1])\n",
    "j"
   ],
   "id": "21b1b0b05140c516",
   "outputs": [
    {
     "data": {
      "text/plain": [
       "array([0, 1])"
      ]
     },
     "execution_count": 2,
     "metadata": {},
     "output_type": "execute_result"
    }
   ],
   "execution_count": 2
  },
  {
   "metadata": {
    "ExecuteTime": {
     "end_time": "2024-06-14T06:55:18.860486Z",
     "start_time": "2024-06-14T06:55:18.852969Z"
    }
   },
   "cell_type": "code",
   "source": [
    "# 내적 구하기\n",
    "np.dot(i, j)"
   ],
   "id": "84d40724a38a331",
   "outputs": [
    {
     "data": {
      "text/plain": [
       "0"
      ]
     },
     "execution_count": 3,
     "metadata": {},
     "output_type": "execute_result"
    }
   ],
   "execution_count": 3
  }
 ],
 "metadata": {
  "kernelspec": {
   "display_name": "Python 3",
   "language": "python",
   "name": "python3"
  },
  "language_info": {
   "codemirror_mode": {
    "name": "ipython",
    "version": 2
   },
   "file_extension": ".py",
   "mimetype": "text/x-python",
   "name": "python",
   "nbconvert_exporter": "python",
   "pygments_lexer": "ipython2",
   "version": "2.7.6"
  }
 },
 "nbformat": 4,
 "nbformat_minor": 5
}
