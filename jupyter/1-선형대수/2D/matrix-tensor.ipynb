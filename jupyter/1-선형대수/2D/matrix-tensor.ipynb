{
 "cells": [
  {
   "metadata": {},
   "cell_type": "markdown",
   "source": [
    "## Matrix Tensor\n",
    "\n",
    "행렬표기법과 넘파이, 텐서플로우, 파이토치를 활용해 2차원 텐서인 행렬을 생성해보는 예제로 학습합니다.\n",
    "\n",
    "행렬은 보통 대문자, Italic체, Bold체로 표기합니다.\n",
    "\n",
    "행렬에서 차원을 표기하려 한다면 너비보다 높이를 우선시 해야 합니다.[N(row), N(col)]"
   ],
   "id": "f6f44ff867592c9b"
  },
  {
   "metadata": {
    "ExecuteTime": {
     "end_time": "2024-06-14T07:48:55.284173Z",
     "start_time": "2024-06-14T07:48:55.277892Z"
    }
   },
   "cell_type": "code",
   "source": [
    "import numpy as np\n",
    "\n",
    "X = np.array([[25, 2], [5, 26], [3, 7]])\n",
    "X"
   ],
   "id": "13aca4ccfcc4d669",
   "outputs": [
    {
     "data": {
      "text/plain": [
       "array([[25,  2],\n",
       "       [ 5, 26],\n",
       "       [ 3,  7]])"
      ]
     },
     "execution_count": 22,
     "metadata": {},
     "output_type": "execute_result"
    }
   ],
   "execution_count": 22
  },
  {
   "metadata": {
    "ExecuteTime": {
     "end_time": "2024-06-14T07:48:55.374870Z",
     "start_time": "2024-06-14T07:48:55.369712Z"
    }
   },
   "cell_type": "code",
   "source": [
    "# 행렬 확인\n",
    "X.shape"
   ],
   "id": "263398d99551dac1",
   "outputs": [
    {
     "data": {
      "text/plain": [
       "(3, 2)"
      ]
     },
     "execution_count": 23,
     "metadata": {},
     "output_type": "execute_result"
    }
   ],
   "execution_count": 23
  },
  {
   "metadata": {
    "ExecuteTime": {
     "end_time": "2024-06-14T07:48:55.457611Z",
     "start_time": "2024-06-14T07:48:55.452869Z"
    }
   },
   "cell_type": "code",
   "source": [
    "# 배열의 총 요소 개수\n",
    "X.size"
   ],
   "id": "9fccecfbe2766e18",
   "outputs": [
    {
     "data": {
      "text/plain": [
       "6"
      ]
     },
     "execution_count": 24,
     "metadata": {},
     "output_type": "execute_result"
    }
   ],
   "execution_count": 24
  },
  {
   "metadata": {
    "ExecuteTime": {
     "end_time": "2024-06-14T07:48:55.516026Z",
     "start_time": "2024-06-14T07:48:55.511166Z"
    }
   },
   "cell_type": "code",
   "source": [
    "# 모든 행(':')의 첫번쨰 열('0') 선택\n",
    "X[:,0]"
   ],
   "id": "b5fb736f2eda0bd0",
   "outputs": [
    {
     "data": {
      "text/plain": [
       "array([25,  5,  3])"
      ]
     },
     "execution_count": 25,
     "metadata": {},
     "output_type": "execute_result"
    }
   ],
   "execution_count": 25
  },
  {
   "metadata": {
    "ExecuteTime": {
     "end_time": "2024-06-14T07:48:55.549372Z",
     "start_time": "2024-06-14T07:48:55.543042Z"
    }
   },
   "cell_type": "code",
   "source": [
    "# 두번쨰 행('1')의 모든 열(':') 선택\n",
    "X[1,:]"
   ],
   "id": "1b3e1f943249721b",
   "outputs": [
    {
     "data": {
      "text/plain": [
       "array([ 5, 26])"
      ]
     },
     "execution_count": 26,
     "metadata": {},
     "output_type": "execute_result"
    }
   ],
   "execution_count": 26
  },
  {
   "metadata": {
    "ExecuteTime": {
     "end_time": "2024-06-14T07:48:55.650851Z",
     "start_time": "2024-06-14T07:48:55.644441Z"
    }
   },
   "cell_type": "code",
   "source": [
    "# 행과 열의 범위를 지정해 슬라이싱\n",
    "X[0:2, 0:2]"
   ],
   "id": "c1eb3ef6c34ddcf2",
   "outputs": [
    {
     "data": {
      "text/plain": [
       "array([[25,  2],\n",
       "       [ 5, 26]])"
      ]
     },
     "execution_count": 27,
     "metadata": {},
     "output_type": "execute_result"
    }
   ],
   "execution_count": 27
  },
  {
   "metadata": {},
   "cell_type": "markdown",
   "source": "## Matrix in Pytorch & Tensorflow",
   "id": "b1dd47d25867d55d"
  },
  {
   "metadata": {
    "ExecuteTime": {
     "end_time": "2024-06-14T07:49:10.980559Z",
     "start_time": "2024-06-14T07:48:55.697397Z"
    }
   },
   "cell_type": "code",
   "source": [
    "import torch\n",
    "import tensorflow as tf"
   ],
   "id": "a13a54536534abde",
   "outputs": [],
   "execution_count": 28
  },
  {
   "metadata": {
    "ExecuteTime": {
     "end_time": "2024-06-14T07:49:10.995812Z",
     "start_time": "2024-06-14T07:49:10.982567Z"
    }
   },
   "cell_type": "code",
   "source": [
    "# Pytorch\n",
    "X_pt = torch.tensor(X)\n",
    "X_pt"
   ],
   "id": "c05d99462e66cdce",
   "outputs": [
    {
     "data": {
      "text/plain": [
       "tensor([[25,  2],\n",
       "        [ 5, 26],\n",
       "        [ 3,  7]], dtype=torch.int32)"
      ]
     },
     "execution_count": 29,
     "metadata": {},
     "output_type": "execute_result"
    }
   ],
   "execution_count": 29
  },
  {
   "metadata": {
    "ExecuteTime": {
     "end_time": "2024-06-14T07:49:11.003334Z",
     "start_time": "2024-06-14T07:49:10.997821Z"
    }
   },
   "cell_type": "code",
   "source": "X_pt.shape",
   "id": "9fef5216a1bb0b6e",
   "outputs": [
    {
     "data": {
      "text/plain": [
       "torch.Size([3, 2])"
      ]
     },
     "execution_count": 30,
     "metadata": {},
     "output_type": "execute_result"
    }
   ],
   "execution_count": 30
  },
  {
   "metadata": {
    "ExecuteTime": {
     "end_time": "2024-06-14T07:49:11.012016Z",
     "start_time": "2024-06-14T07:49:11.005859Z"
    }
   },
   "cell_type": "code",
   "source": "X_pt[1,:]",
   "id": "c6f52f68288adb7b",
   "outputs": [
    {
     "data": {
      "text/plain": [
       "tensor([ 5, 26], dtype=torch.int32)"
      ]
     },
     "execution_count": 31,
     "metadata": {},
     "output_type": "execute_result"
    }
   ],
   "execution_count": 31
  },
  {
   "metadata": {
    "ExecuteTime": {
     "end_time": "2024-06-14T07:49:11.050328Z",
     "start_time": "2024-06-14T07:49:11.013026Z"
    }
   },
   "cell_type": "code",
   "source": [
    "# Tensorflow\n",
    "X_tf = tf.Variable(X)\n",
    "X_tf"
   ],
   "id": "9e8f8087649890b5",
   "outputs": [
    {
     "data": {
      "text/plain": [
       "<tf.Variable 'Variable:0' shape=(3, 2) dtype=int32, numpy=\n",
       "array([[25,  2],\n",
       "       [ 5, 26],\n",
       "       [ 3,  7]])>"
      ]
     },
     "execution_count": 32,
     "metadata": {},
     "output_type": "execute_result"
    }
   ],
   "execution_count": 32
  },
  {
   "metadata": {
    "ExecuteTime": {
     "end_time": "2024-06-14T07:49:11.058576Z",
     "start_time": "2024-06-14T07:49:11.052335Z"
    }
   },
   "cell_type": "code",
   "source": "tf.rank(X_tf)",
   "id": "ed1d45613c417bb",
   "outputs": [
    {
     "data": {
      "text/plain": [
       "<tf.Tensor: shape=(), dtype=int32, numpy=2>"
      ]
     },
     "execution_count": 33,
     "metadata": {},
     "output_type": "execute_result"
    }
   ],
   "execution_count": 33
  },
  {
   "metadata": {
    "ExecuteTime": {
     "end_time": "2024-06-14T07:49:11.068635Z",
     "start_time": "2024-06-14T07:49:11.059581Z"
    }
   },
   "cell_type": "code",
   "source": "tf.shape(X_tf)",
   "id": "bf26a6be7d424d19",
   "outputs": [
    {
     "data": {
      "text/plain": [
       "<tf.Tensor: shape=(2,), dtype=int32, numpy=array([3, 2])>"
      ]
     },
     "execution_count": 34,
     "metadata": {},
     "output_type": "execute_result"
    }
   ],
   "execution_count": 34
  },
  {
   "metadata": {
    "ExecuteTime": {
     "end_time": "2024-06-14T07:49:11.083234Z",
     "start_time": "2024-06-14T07:49:11.069647Z"
    }
   },
   "cell_type": "code",
   "source": "X_tf[1,:]",
   "id": "8c5a413dfad52cb6",
   "outputs": [
    {
     "data": {
      "text/plain": [
       "<tf.Tensor: shape=(2,), dtype=int32, numpy=array([ 5, 26])>"
      ]
     },
     "execution_count": 35,
     "metadata": {},
     "output_type": "execute_result"
    }
   ],
   "execution_count": 35
  }
 ],
 "metadata": {
  "kernelspec": {
   "display_name": "Python 3",
   "language": "python",
   "name": "python3"
  },
  "language_info": {
   "codemirror_mode": {
    "name": "ipython",
    "version": 2
   },
   "file_extension": ".py",
   "mimetype": "text/x-python",
   "name": "python",
   "nbconvert_exporter": "python",
   "pygments_lexer": "ipython2",
   "version": "2.7.6"
  }
 },
 "nbformat": 4,
 "nbformat_minor": 5
}
