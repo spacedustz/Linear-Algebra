{
 "cells": [
  {
   "metadata": {},
   "cell_type": "markdown",
   "source": [
    "## Vector\n",
    "\n",
    "1차원 텐서인 벡터는 수의 1차원 배열이며, 순서를 이뤄 정렬되어 있고, Italic, Bold체로 표기됩니다. (Scala는 Italic으로만 표기)\n",
    "\n",
    "벡터내 모든 요소는 특정 순서를 가지며, 각 요소는 인덱스를 이용해 접근 가능하고 각 요소는 Italic체의 Scala로 구성됩니다.\n",
    "\n",
    "만약 어떤 x라는 벡터의 두번째 인덱스를 적고자 한다면 x는 Bold, x2는 Italic으로 표기됩니다.\n",
    "\n",
    "또한 벡터를 이용해 공간 내의 좌표뿐 아니라 공간에 걸친 특정 규모나 방향을 표현할 수 있습니다."
   ],
   "id": "a0ff2a0d1459f579"
  },
  {
   "metadata": {
    "ExecuteTime": {
     "end_time": "2024-06-08T09:14:39.693114Z",
     "start_time": "2024-06-08T09:14:39.689929Z"
    }
   },
   "cell_type": "code",
   "source": [
    "import numpy as np\n",
    "\n",
    "x = np.array([25, 2, 5]) # 타입 선언 생략 -> 정수형 ex) np.array([25, 2, 5], dtype=np.float16)"
   ],
   "id": "8b3e95ed73593e2f",
   "outputs": [],
   "execution_count": 21
  },
  {
   "metadata": {
    "ExecuteTime": {
     "end_time": "2024-06-08T09:14:39.717442Z",
     "start_time": "2024-06-08T09:14:39.713059Z"
    }
   },
   "cell_type": "code",
   "source": "len(x) # 길이 확인",
   "id": "bb8d0c5815cafcdd",
   "outputs": [
    {
     "data": {
      "text/plain": [
       "3"
      ]
     },
     "execution_count": 22,
     "metadata": {},
     "output_type": "execute_result"
    }
   ],
   "execution_count": 22
  },
  {
   "metadata": {
    "ExecuteTime": {
     "end_time": "2024-06-08T09:14:39.765442Z",
     "start_time": "2024-06-08T09:14:39.761321Z"
    }
   },
   "cell_type": "code",
   "source": "x.shape # 차원 확인",
   "id": "1eb0adc2c40625cf",
   "outputs": [
    {
     "data": {
      "text/plain": [
       "(3,)"
      ]
     },
     "execution_count": 23,
     "metadata": {},
     "output_type": "execute_result"
    }
   ],
   "execution_count": 23
  },
  {
   "metadata": {
    "ExecuteTime": {
     "end_time": "2024-06-08T09:14:39.770642Z",
     "start_time": "2024-06-08T09:14:39.766438Z"
    }
   },
   "cell_type": "code",
   "source": "type(x) # 타입 확인",
   "id": "de8b43596ef3e4f7",
   "outputs": [
    {
     "data": {
      "text/plain": [
       "numpy.ndarray"
      ]
     },
     "execution_count": 24,
     "metadata": {},
     "output_type": "execute_result"
    }
   ],
   "execution_count": 24
  },
  {
   "metadata": {
    "ExecuteTime": {
     "end_time": "2024-06-08T09:14:39.784784Z",
     "start_time": "2024-06-08T09:14:39.781611Z"
    }
   },
   "cell_type": "code",
   "source": "x[0] # 요소 접근",
   "id": "22e9a112f149105b",
   "outputs": [
    {
     "data": {
      "text/plain": [
       "25"
      ]
     },
     "execution_count": 25,
     "metadata": {},
     "output_type": "execute_result"
    }
   ],
   "execution_count": 25
  },
  {
   "metadata": {
    "ExecuteTime": {
     "end_time": "2024-06-08T09:14:39.831336Z",
     "start_time": "2024-06-08T09:14:39.827667Z"
    }
   },
   "cell_type": "code",
   "source": "type(x[0]) # 넘파이 배열의 요소 타입 확인",
   "id": "cb66a3d8f36d9873",
   "outputs": [
    {
     "data": {
      "text/plain": [
       "numpy.int32"
      ]
     },
     "execution_count": 26,
     "metadata": {},
     "output_type": "execute_result"
    }
   ],
   "execution_count": 26
  },
  {
   "metadata": {},
   "cell_type": "markdown",
   "source": [
    "## Vector Transposition (벡터 전치)\n",
    "\n",
    "벡터에서 전치란 열벡터를 전치하면 행벡터가 되고 행백테를 전치하면 열벡터가 되는 개념입니다.\n",
    "\n",
    "따라서 벡터내 모든 요소가 변함없이 전치되고 순서도 그대로 유지됩니다.\n",
    "\n",
    "만약 row vector(1,3)이 column vector로 전치해서 shape 해보면 (1,3) -> (3,1)로 변환됩니다."
   ],
   "id": "facf2ace1b4e9c8e"
  },
  {
   "metadata": {},
   "cell_type": "markdown",
   "source": [
    "### x의 전치\n",
    "\n",
    "위에 선언한 x의 전치인 x.T를 x_t에 대입해서 shape를 해보면 변화가 없다.\n",
    "\n",
    "왜냐하면 보통 넘파이의 1차원 배열은 대괄호로 구체화되기 떄문이다.\n",
    "\n",
    "따라서 이를 전치하면 1 혹인 2 등의 전치를 시켜줄 \"차원\" 자체가 없게 된다."
   ],
   "id": "672a896deb2036cd"
  },
  {
   "metadata": {
    "ExecuteTime": {
     "end_time": "2024-06-08T09:14:39.866021Z",
     "start_time": "2024-06-08T09:14:39.862251Z"
    }
   },
   "cell_type": "code",
   "source": [
    "# 차원의 변화가 없는 전치 대입\n",
    "x_t = x.T\n",
    "x_t"
   ],
   "id": "106bf5a7f1fda155",
   "outputs": [
    {
     "data": {
      "text/plain": [
       "array([25,  2,  5])"
      ]
     },
     "execution_count": 27,
     "metadata": {},
     "output_type": "execute_result"
    }
   ],
   "execution_count": 27
  },
  {
   "metadata": {
    "ExecuteTime": {
     "end_time": "2024-06-08T09:14:39.881758Z",
     "start_time": "2024-06-08T09:14:39.878984Z"
    }
   },
   "cell_type": "code",
   "source": "x_t.shape",
   "id": "9445d1b60db8b77a",
   "outputs": [
    {
     "data": {
      "text/plain": [
       "(3,)"
      ]
     },
     "execution_count": 28,
     "metadata": {},
     "output_type": "execute_result"
    }
   ],
   "execution_count": 28
  },
  {
   "metadata": {},
   "cell_type": "markdown",
   "source": [
    "위 문제를 해결하려면 넘파이 배열을 생성할떄 중첩 행렬(matrix) 스타일로 [[]] 선언을 해주고 전치를 하면,\n",
    "\n",
    "그제서야 y 벡터는 2개의 차원을 가지는 (1,3) 2차원 텐서인 벡터가 생성됩니다.\n",
    "\n",
    "아래 y를 전치해보면 기존 (1,3)에서 (3,1)로 잘 변환된걸 볼 수 있습니다."
   ],
   "id": "24124925df142aef"
  },
  {
   "metadata": {
    "ExecuteTime": {
     "end_time": "2024-06-08T09:14:39.893756Z",
     "start_time": "2024-06-08T09:14:39.890733Z"
    }
   },
   "cell_type": "code",
   "source": [
    "# 2차원 텐서 생성\n",
    "y = np.array([[25, 2, 5]])"
   ],
   "id": "a4ece09a8e52f31a",
   "outputs": [],
   "execution_count": 29
  },
  {
   "metadata": {
    "ExecuteTime": {
     "end_time": "2024-06-08T09:14:39.921949Z",
     "start_time": "2024-06-08T09:14:39.918683Z"
    }
   },
   "cell_type": "code",
   "source": "y.shape",
   "id": "8ce0cc24c76c4fea",
   "outputs": [
    {
     "data": {
      "text/plain": [
       "(1, 3)"
      ]
     },
     "execution_count": 30,
     "metadata": {},
     "output_type": "execute_result"
    }
   ],
   "execution_count": 30
  },
  {
   "metadata": {
    "ExecuteTime": {
     "end_time": "2024-06-08T09:14:39.937823Z",
     "start_time": "2024-06-08T09:14:39.934909Z"
    }
   },
   "cell_type": "code",
   "source": [
    "# 열벡터를 행벡터로 전치\n",
    "y_t = y.T\n",
    "y_t"
   ],
   "id": "27f9891d1a404efb",
   "outputs": [
    {
     "data": {
      "text/plain": [
       "array([[25],\n",
       "       [ 2],\n",
       "       [ 5]])"
      ]
     },
     "execution_count": 31,
     "metadata": {},
     "output_type": "execute_result"
    }
   ],
   "execution_count": 31
  },
  {
   "metadata": {
    "ExecuteTime": {
     "end_time": "2024-06-08T09:14:39.942050Z",
     "start_time": "2024-06-08T09:14:39.938818Z"
    }
   },
   "cell_type": "code",
   "source": "y_t.shape",
   "id": "7b3b8a998945b995",
   "outputs": [
    {
     "data": {
      "text/plain": [
       "(3, 1)"
      ]
     },
     "execution_count": 32,
     "metadata": {},
     "output_type": "execute_result"
    }
   ],
   "execution_count": 32
  },
  {
   "metadata": {
    "ExecuteTime": {
     "end_time": "2024-06-08T09:14:39.952072Z",
     "start_time": "2024-06-08T09:14:39.949030Z"
    }
   },
   "cell_type": "code",
   "source": [
    "# 행벡터를 다시 열벡터도 전치\n",
    "y_t.T"
   ],
   "id": "bdc8fce11e70dcf",
   "outputs": [
    {
     "data": {
      "text/plain": [
       "array([[25,  2,  5]])"
      ]
     },
     "execution_count": 33,
     "metadata": {},
     "output_type": "execute_result"
    }
   ],
   "execution_count": 33
  },
  {
   "metadata": {
    "ExecuteTime": {
     "end_time": "2024-06-08T09:14:39.980918Z",
     "start_time": "2024-06-08T09:14:39.977Z"
    }
   },
   "cell_type": "code",
   "source": "y_t.T.shape",
   "id": "eeedbd3fba8f5cd2",
   "outputs": [
    {
     "data": {
      "text/plain": [
       "(1, 3)"
      ]
     },
     "execution_count": 34,
     "metadata": {},
     "output_type": "execute_result"
    }
   ],
   "execution_count": 34
  },
  {
   "metadata": {},
   "cell_type": "markdown",
   "source": [
    "## Zero Vector\n",
    "\n",
    "0 벡터란 벡터의 값이 모두 0인것을 의미하며, 이 0 벡터는 넘파이의 `np.zeros()`로 생성할 수 있고, 텐서의 차원도 구체화 가능합니다."
   ],
   "id": "ff753fbc7389021a"
  },
  {
   "metadata": {
    "ExecuteTime": {
     "end_time": "2024-06-08T09:14:39.998379Z",
     "start_time": "2024-06-08T09:14:39.990887Z"
    }
   },
   "cell_type": "code",
   "source": [
    "# 1차원 3의 크기를 가지는 텐서 생성\n",
    "z = np.zeros(3)\n",
    "z"
   ],
   "id": "cf8bcbd81a3ee279",
   "outputs": [
    {
     "data": {
      "text/plain": [
       "array([0., 0., 0.])"
      ]
     },
     "execution_count": 35,
     "metadata": {},
     "output_type": "execute_result"
    }
   ],
   "execution_count": 35
  },
  {
   "metadata": {},
   "cell_type": "markdown",
   "source": [
    "## Vector in Pytorch and Tensorflow\n",
    "\n",
    "Pytorch와 Tensorflow에서 벡터를 생성할때도 넘파이에서와 같이 구체화 해주면 됩니다."
   ],
   "id": "c01cb28bd0639145"
  },
  {
   "metadata": {
    "ExecuteTime": {
     "end_time": "2024-06-08T09:14:45.758972Z",
     "start_time": "2024-06-08T09:14:39.998891Z"
    }
   },
   "cell_type": "code",
   "source": [
    "import torch\n",
    "import tensorflow as tf"
   ],
   "id": "8c554ab163c5d7a0",
   "outputs": [],
   "execution_count": 36
  },
  {
   "metadata": {
    "ExecuteTime": {
     "end_time": "2024-06-08T09:14:45.831402Z",
     "start_time": "2024-06-08T09:14:45.759969Z"
    }
   },
   "cell_type": "code",
   "source": [
    "# Pytorch Tensor\n",
    "x_pt = torch.tensor([25, 2, 5])\n",
    "x_pt"
   ],
   "id": "b278b33389b23643",
   "outputs": [
    {
     "data": {
      "text/plain": [
       "tensor([25,  2,  5])"
      ]
     },
     "execution_count": 37,
     "metadata": {},
     "output_type": "execute_result"
    }
   ],
   "execution_count": 37
  },
  {
   "metadata": {
    "ExecuteTime": {
     "end_time": "2024-06-08T09:14:45.858211Z",
     "start_time": "2024-06-08T09:14:45.831402Z"
    }
   },
   "cell_type": "code",
   "source": [
    "# Tensorflow Tensor\n",
    "x_tf = tf.Variable([25, 2, 5])\n",
    "x_tf"
   ],
   "id": "b1f4c674f8a72693",
   "outputs": [
    {
     "data": {
      "text/plain": [
       "<tf.Variable 'Variable:0' shape=(3,) dtype=int32, numpy=array([25,  2,  5])>"
      ]
     },
     "execution_count": 38,
     "metadata": {},
     "output_type": "execute_result"
    }
   ],
   "execution_count": 38
  }
 ],
 "metadata": {
  "kernelspec": {
   "display_name": "Python 3",
   "language": "python",
   "name": "python3"
  },
  "language_info": {
   "codemirror_mode": {
    "name": "ipython",
    "version": 2
   },
   "file_extension": ".py",
   "mimetype": "text/x-python",
   "name": "python",
   "nbconvert_exporter": "python",
   "pygments_lexer": "ipython2",
   "version": "2.7.6"
  }
 },
 "nbformat": 4,
 "nbformat_minor": 5
}
