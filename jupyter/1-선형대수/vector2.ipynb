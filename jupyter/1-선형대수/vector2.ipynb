{
 "cells": [
  {
   "metadata": {},
   "cell_type": "markdown",
   "source": [
    "## Norm & Unit Vector\n",
    "\n",
    "이번에는 주어진 벡터를 이용해 어떻게 공간에 걸친 규모와 방향을 표현하는지와,\n",
    "\n",
    "벡터의 규모를 수량화하는 클래스 함수인 노름과 단위 벡터에 대해 알아보겠습니다.\n",
    "\n",
    "<br>\n",
    "\n",
    "지난번엔 벡터의 어떤 공간 내 좌표와 그 크기 표현에 대한걸 학습하였습니다.\n",
    "\n",
    "예를 들면, `[x1, x2] = [12, 4]` 벡터가 그래프상의 어떤 x,y 값의 교차점(좌표)로도 활용되고 이건 출발점 혹은 그 원형으로부터의 규모나 방향을 나타낼 수도 있습니다.\n",
    "\n",
    "위의 경우는 벡터가 0,0 이라는 공간으로부터 12,4 좌표까지의 흔적을 남기는 것이죠.\n",
    "\n",
    "<br>\n",
    "\n",
    "모든 노름 함수 중에서 가장 흔하고 중요한 함수는 L2 노름입니다.\n",
    "\n",
    "L1 노름은 **각 성분의 변화량의 절대값을 모두 더하는** 방식이며,\n",
    "\n",
    "L2 노름은 **피타고라스 정리에 의한 유클리드 거리(최단)** 을 계산하는 방식(0벡터로부터 간단한 거리 계산)입니다.\n",
    "\n",
    "벡터 x의 노름 기호 : **$||x||$**\n",
    "\n",
    "<br>\n",
    "\n",
    "L2 노름은 벡터 내 각 요소를 제곱한 후 모든 요소를 다시 더해주고 시그마의 총합에 제곱근을 씌워 값을 구합니다."
   ],
   "id": "4e8c737dbde7e7ab"
  },
  {
   "metadata": {
    "ExecuteTime": {
     "end_time": "2024-06-08T10:07:31.810036Z",
     "start_time": "2024-06-08T10:07:31.807440Z"
    }
   },
   "cell_type": "code",
   "source": [
    "import numpy as np\n",
    "import tensorflow as tf\n",
    "\n",
    "x = np.array([25, 2, 5])"
   ],
   "id": "2167090771028cb2",
   "outputs": [],
   "execution_count": 15
  },
  {
   "metadata": {},
   "cell_type": "markdown",
   "source": [
    "## $L^2$ Norm\n",
    "\n",
    "파티고라스 정리에 의한 유클리드 거리(최단 / 0벡터로부터 간단한 거리) 계산\n",
    "\n",
    "![](./2.png)"
   ],
   "id": "ee3b483aabf4bf9a"
  },
  {
   "metadata": {
    "ExecuteTime": {
     "end_time": "2024-06-08T10:07:31.840074Z",
     "start_time": "2024-06-08T10:07:31.836479Z"
    }
   },
   "cell_type": "code",
   "source": [
    "# 위에서 생성한 벡터 x\n",
    "x"
   ],
   "id": "b2f82060ed393b08",
   "outputs": [
    {
     "data": {
      "text/plain": [
       "array([25,  2,  5])"
      ]
     },
     "execution_count": 16,
     "metadata": {},
     "output_type": "execute_result"
    }
   ],
   "execution_count": 16
  },
  {
   "metadata": {
    "ExecuteTime": {
     "end_time": "2024-06-08T10:07:31.853044Z",
     "start_time": "2024-06-08T10:07:31.849052Z"
    }
   },
   "cell_type": "code",
   "source": [
    "# 각 벡터의 요소를 제곱하고 전부다 더한다음 그 합의 제곱근 구하기\n",
    "# 0벡터부터 [25,2,5] 까지의 거리\n",
    "(25**2 + 2**2 + 5**2) ** (1/2)"
   ],
   "id": "c090716b5dd41f46",
   "outputs": [
    {
     "data": {
      "text/plain": [
       "25.573423705088842"
      ]
     },
     "execution_count": 17,
     "metadata": {},
     "output_type": "execute_result"
    }
   ],
   "execution_count": 17
  },
  {
   "metadata": {
    "ExecuteTime": {
     "end_time": "2024-06-08T10:07:31.857011Z",
     "start_time": "2024-06-08T10:07:31.854044Z"
    }
   },
   "cell_type": "code",
   "source": [
    "# Numpy의 norm()을 사용해 위 과정을 단순화 하기\n",
    "np.linalg.norm(x)"
   ],
   "id": "6d585a58ae6dd6ab",
   "outputs": [
    {
     "data": {
      "text/plain": [
       "25.573423705088842"
      ]
     },
     "execution_count": 18,
     "metadata": {},
     "output_type": "execute_result"
    }
   ],
   "execution_count": 18
  },
  {
   "metadata": {},
   "cell_type": "markdown",
   "source": "만약 3차원 공간 내 개체가 미터(m)일 경우 이 벡터 x는 0벡터부터의 거리나 크기를 의미합니다. -> 25.6m",
   "id": "240c168f572cc260"
  },
  {
   "metadata": {},
   "cell_type": "markdown",
   "source": [
    "## $L^1$ Norm\n",
    "\n",
    "각 성분의 변화량의 절대값을 모두 더하는 방식이며, 머신러닝에 자주 사용됩니다.\n",
    "\n",
    "L1 노름이 가지는 흥미로운 특성 중 하나는 이 노름이 0벡터에서의 거리와 상관없이 선형을 띄며, 0과 0이 아닌 것들 사이의 차이점이 중요한 곳에서 사용됩니다.\n",
    "\n",
    "![](./1.png)"
   ],
   "id": "d81af64236015174"
  },
  {
   "metadata": {
    "ExecuteTime": {
     "end_time": "2024-06-08T10:07:31.860353Z",
     "start_time": "2024-06-08T10:07:31.857011Z"
    }
   },
   "cell_type": "code",
   "source": [
    "# 위에서 생성한 벡터 x\n",
    "x"
   ],
   "id": "79ad9b4b596b9dce",
   "outputs": [
    {
     "data": {
      "text/plain": [
       "array([25,  2,  5])"
      ]
     },
     "execution_count": 19,
     "metadata": {},
     "output_type": "execute_result"
    }
   ],
   "execution_count": 19
  },
  {
   "metadata": {
    "ExecuteTime": {
     "end_time": "2024-06-08T10:07:31.872900Z",
     "start_time": "2024-06-08T10:07:31.868335Z"
    }
   },
   "cell_type": "code",
   "source": [
    "# 각 요소의 절대값의 합을 구하는 방식\n",
    "np.abs(25) + np.abs(2) + np.abs(5)"
   ],
   "id": "df552660e01f30a4",
   "outputs": [
    {
     "data": {
      "text/plain": [
       "32"
      ]
     },
     "execution_count": 20,
     "metadata": {},
     "output_type": "execute_result"
    }
   ],
   "execution_count": 20
  },
  {
   "metadata": {},
   "cell_type": "markdown",
   "source": [
    "## Squared $L^2$ Norm\n",
    "\n",
    "제곱 L2 노름은 마지막 단계만 뺴면 L2 노름과 유사합니다.\n",
    "\n",
    "마지막 단계란 기존 L2 노름에서 각 요소의 제곱을 전부 더해주고 거기에 루트값을 취해주었는데,\n",
    "\n",
    "제곱 L2 노름은 **루트값을 취하는 과정이 빠진** 함수입니다.\n",
    "\n",
    "* 흔히 쓰이는 L2 노름에 비하면 연산적으로 훨씬 저비용인 함수이며, 이 노름의 도함수는 많은 머신러닝 알고리즘을 학습시킬 때 사용\n",
    "* 제곱 L2노름은 간단하게 `전치된 x`에 `x`를 곱한 값과 같습니다. 그래서 매우 간단하고 저비용\n",
    "* 단독 요소 x의 도함수가 그 요소 하나만을 요구함, L2 노름에서 벡터 전체의 정보가 필요한것에 대비됨\n",
    "* 제곱 L2 노름의 결점은 0벡터에서 아주 느리게 자람\n",
    "* 따라서 0과 0과 가까운 값이 중요한 정보일떄 그 값을 구별할 수 없음"
   ],
   "id": "ef9b798e9abf094a"
  }
 ],
 "metadata": {
  "kernelspec": {
   "display_name": "Python 3",
   "language": "python",
   "name": "python3"
  },
  "language_info": {
   "codemirror_mode": {
    "name": "ipython",
    "version": 2
   },
   "file_extension": ".py",
   "mimetype": "text/x-python",
   "name": "python",
   "nbconvert_exporter": "python",
   "pygments_lexer": "ipython2",
   "version": "2.7.6"
  }
 },
 "nbformat": 4,
 "nbformat_minor": 5
}
